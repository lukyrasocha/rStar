{
 "cells": [
  {
   "cell_type": "markdown",
   "metadata": {},
   "source": [
    "# 🧠 Evaluating the Robustness of rStar: A Framework for Enhanced Reasoning in SLMs\n",
    "\n",
    "Welcome to the notebook accompanying the project. This notebook walks you through the key components of the study, from data preparation to evaluation and results analysis.\n",
    "\n",
    "---\n",
    "\n",
    "## Disclaimer\n",
    "\n",
    "Although we have made every effort to ensure reproducibility of the results, it's important to note that throughout the entire project work we were working on the fork of the original rStar project on the DTU HPC cluster with bash scripts and python scripts. The notebook thus serves just as a summary of the work done and the results obtained. \n",
    "\n",
    "## 📋 Table of Contents\n",
    "\n",
    "1. [Import packages](#dependencies)\n",
    "2. [Subsample GSM8K](#setup-and-dependencies)\n",
    "3. [Template design](#template-design)\n",
    "4. [Data Generation](#data-preparation)\n",
    "5. [Runnig rStar](#running-rstar)\n",
    "6. [New Action](#new-action)\n",
    "7. [Results](#results)\n",
    "8. [Conclusion](#conclusion)"
   ]
  },
  {
   "cell_type": "markdown",
   "metadata": {},
   "source": [
    "## Import <a id=\"dependencies\"></a>\n"
   ]
  },
  {
   "cell_type": "code",
   "execution_count": 13,
   "metadata": {},
   "outputs": [],
   "source": [
    "import json\n",
    "import random\n",
    "import numpy as np\n",
    "import pandas as pd\n",
    "import matplotlib.pyplot as plt\n",
    "from matplotlib import rcParams\n",
    "import os\n",
    "import matplotlib.cm as cm\n",
    "\n",
    "\n",
    "rcParams['font.family'] = 'serif'"
   ]
  },
  {
   "cell_type": "markdown",
   "metadata": {},
   "source": [
    "## Utils"
   ]
  },
  {
   "cell_type": "code",
   "execution_count": 6,
   "metadata": {},
   "outputs": [],
   "source": [
    "# file exists function\n",
    "def file_exists(file):\n",
    "    try:\n",
    "        with open(file, 'r') as f:\n",
    "            return True\n",
    "    except FileNotFoundError:\n",
    "        return False\n"
   ]
  },
  {
   "cell_type": "markdown",
   "metadata": {},
   "source": [
    "## Subsample the GSM8K data <a id=\"data-preparation\"></a>\n",
    "\n",
    "To avoid any inherent bias we would have when selecting the subsample manually we decided to randomly select 20 questions from the GSM8K dataset. We decided for 20 questions as more questions using the same training set up as in the original paper would have been time-wise too expensive. "
   ]
  },
  {
   "cell_type": "code",
   "execution_count": null,
   "metadata": {},
   "outputs": [
    {
     "name": "stdout",
     "output_type": "stream",
     "text": [
      "File data/GSM8K/baseline.json already exists\n"
     ]
    }
   ],
   "source": [
    "# Read GSM8K data \n",
    "filename = 'data/GSM8K/baseline.json'\n",
    "\n",
    "with open('data/GSM8K/test_all.json') as f:\n",
    "    data = json.load(f)\n",
    "\n",
    "# select random 20 questions\n",
    "random.seed(0)\n",
    "random.shuffle(data)\n",
    "data = data[:20]\n",
    "\n",
    "# Write to file\n",
    "if file_exists(filename):\n",
    "    print(f'File {filename} already exists')\n",
    "else:\n",
    "    with open(filename, 'w') as f:\n",
    "        json.dump(data, f, indent=4)\n"
   ]
  },
  {
   "cell_type": "markdown",
   "metadata": {},
   "source": [
    "## Template design <a id=\"template-design\"></a>\n",
    "\n",
    "For each question, we created a template that would be used to generate the data. The template was created based on the question and the answer. (Show example?)"
   ]
  },
  {
   "cell_type": "markdown",
   "metadata": {},
   "source": [
    "## Generate Variations of the Questions <a id=\"data-preparation\"></a>\n",
    "\n",
    "We first generated generic templates for all the selected questions. After that, each template was used to generate novel synthetic variations of the questions. For more details please refer to the report."
   ]
  },
  {
   "cell_type": "markdown",
   "metadata": {},
   "source": [
    "### Experiment 1: Names"
   ]
  },
  {
   "cell_type": "code",
   "execution_count": null,
   "metadata": {},
   "outputs": [
    {
     "name": "stdout",
     "output_type": "stream",
     "text": [
      "Variations for the Names Experiment 1 were generated. Saved to data/GSM8K/GSMSymbolic/variations/exp_1_names\n"
     ]
    }
   ],
   "source": [
    "!python variation_generator.py --input data/GSM8K/baseline.json --output data/GSM8K/GSMSymbolic/variations/exp_1_names/variation1.json --type name --num_variations 1\n",
    "!python variation_generator.py --input data/GSM8K/baseline.json --output data/GSM8K/GSMSymbolic/variations/exp_1_names/variation2.json --type name --num_variations 1\n",
    "!python variation_generator.py --input data/GSM8K/baseline.json --output data/GSM8K/GSMSymbolic/variations/exp_1_names/variation3.json --type name --num_variations 1\n",
    "!python variation_generator.py --input data/GSM8K/baseline.json --output data/GSM8K/GSMSymbolic/variations/exp_1_names/variation4.json --type name --num_variations 1\n",
    "!python variation_generator.py --input data/GSM8K/baseline.json --output data/GSM8K/GSMSymbolic/variations/exp_1_names/variation5.json --type name --num_variations 1\n",
    "\n",
    "print(\"Variations for the Names Experiment 1 were generated. Saved to data/GSM8K/GSMSymbolic/variations/exp_1_names\")"
   ]
  },
  {
   "cell_type": "markdown",
   "metadata": {},
   "source": [
    "### Experiment 2: Numbers"
   ]
  },
  {
   "cell_type": "code",
   "execution_count": 12,
   "metadata": {},
   "outputs": [
    {
     "name": "stdout",
     "output_type": "stream",
     "text": [
      "Variations for the Names Experiment 1 were generated. Saved to data/GSM8K/GSMSymbolic/variations/exp_2_numbers\n"
     ]
    }
   ],
   "source": [
    "!python variation_generator.py --input data/GSM8K/baseline.json --output data/GSM8K/GSMSymbolic/variations/exp_2_numbers/variation1.json --type numbers --num_variations 1\n",
    "!python variation_generator.py --input data/GSM8K/baseline.json --output data/GSM8K/GSMSymbolic/variations/exp_2_numbers/variation2.json --type numbers --num_variations 1\n",
    "!python variation_generator.py --input data/GSM8K/baseline.json --output data/GSM8K/GSMSymbolic/variations/exp_2_numbers/variation3.json --type numbers --num_variations 1\n",
    "!python variation_generator.py --input data/GSM8K/baseline.json --output data/GSM8K/GSMSymbolic/variations/exp_2_numbers/variation4.json --type numbers --num_variations 1\n",
    "!python variation_generator.py --input data/GSM8K/baseline.json --output data/GSM8K/GSMSymbolic/variations/exp_2_numbers/variation5.json --type numbers --num_variations 1\n",
    "\n",
    "print(\"Variations for the Names Experiment 1 were generated. Saved to data/GSM8K/GSMSymbolic/variations/exp_2_numbers\")"
   ]
  },
  {
   "cell_type": "markdown",
   "metadata": {},
   "source": [
    "### Experiment 3: Names + Numbers"
   ]
  },
  {
   "cell_type": "markdown",
   "metadata": {},
   "source": [
    "### Experiment 4: NoOps"
   ]
  },
  {
   "cell_type": "markdown",
   "metadata": {},
   "source": [
    "### Experiment 5: Irrelevant Information"
   ]
  },
  {
   "cell_type": "code",
   "execution_count": 10,
   "metadata": {},
   "outputs": [
    {
     "name": "stdout",
     "output_type": "stream",
     "text": [
      "Variations for the Irrelevant Inforamtion Experiment 5 were generated. Saved to data/GSM8K/GSMSymbolic/variations/exp_5_irrelevant\n"
     ]
    }
   ],
   "source": [
    "!python variation_generator.py --input data/GSM8K/baseline.json --output data/GSM8K/GSMSymbolic/variations/exp_5_irrelevant/variation1.json --type irrelevant --num_variations 1\n",
    "!python variation_generator.py --input data/GSM8K/baseline.json --output data/GSM8K/GSMSymbolic/variations/exp_5_irrelevant/variation2.json --type irrelevant --num_variations 1\n",
    "!python variation_generator.py --input data/GSM8K/baseline.json --output data/GSM8K/GSMSymbolic/variations/exp_5_irrelevant/variation3.json --type irrelevant --num_variations 1\n",
    "!python variation_generator.py --input data/GSM8K/baseline.json --output data/GSM8K/GSMSymbolic/variations/exp_5_irrelevant/variation4.json --type irrelevant --num_variations 1\n",
    "!python variation_generator.py --input data/GSM8K/baseline.json --output data/GSM8K/GSMSymbolic/variations/exp_5_irrelevant/variation5.json --type irrelevant --num_variations 1\n",
    "\n",
    "print(\"Variations for the Irrelevant Inforamtion Experiment 5 were generated. Saved to data/GSM8K/GSMSymbolic/variations/exp_5_irrelevant\")"
   ]
  },
  {
   "cell_type": "markdown",
   "metadata": {},
   "source": [
    "## Run Generator <a id=\"running-rstar\"></a>"
   ]
  },
  {
   "cell_type": "markdown",
   "metadata": {},
   "source": [
    "### Experiment 1: Names"
   ]
  },
  {
   "cell_type": "markdown",
   "metadata": {},
   "source": [
    "### Experiment 2: Numbers"
   ]
  },
  {
   "cell_type": "markdown",
   "metadata": {},
   "source": [
    "### Experiment 3: Names + Numbers"
   ]
  },
  {
   "cell_type": "markdown",
   "metadata": {},
   "source": [
    "### Experiment 4: NoOps"
   ]
  },
  {
   "cell_type": "markdown",
   "metadata": {},
   "source": [
    "### Experiment 5: Irrelevant Information"
   ]
  },
  {
   "cell_type": "markdown",
   "metadata": {},
   "source": [
    "## Run Discriminator"
   ]
  },
  {
   "cell_type": "markdown",
   "metadata": {},
   "source": [
    "### Experiment 1: Names"
   ]
  },
  {
   "cell_type": "markdown",
   "metadata": {},
   "source": [
    "### Experiment 2 : Numbers"
   ]
  },
  {
   "cell_type": "markdown",
   "metadata": {},
   "source": [
    "### Experiment 3: Names + Numbers"
   ]
  },
  {
   "cell_type": "markdown",
   "metadata": {},
   "source": [
    "### Experiment 4: NoOps"
   ]
  },
  {
   "cell_type": "markdown",
   "metadata": {},
   "source": [
    "### Experimetn 5: Irrelevant Information"
   ]
  },
  {
   "cell_type": "markdown",
   "metadata": {},
   "source": [
    "## New Action"
   ]
  },
  {
   "cell_type": "markdown",
   "metadata": {},
   "source": [
    "## Results <a id=\"results\"></a>"
   ]
  },
  {
   "cell_type": "code",
   "execution_count": null,
   "metadata": {},
   "outputs": [],
   "source": [
    "experiments_path = \"Results\"\n",
    "baseline_path = \"baseline/Results\"\n",
    "\n",
    "experiment_names = []\n",
    "average_accuracies = []\n",
    "majority_vote_accuracies = []\n",
    "error_bars_accuracy = []\n",
    "error_bars_majority_vote = []"
   ]
  },
  {
   "cell_type": "code",
   "execution_count": 24,
   "metadata": {},
   "outputs": [],
   "source": [
    "\n",
    "for experiment in sorted(os.listdir(experiments_path)):\n",
    "    experiment_path = os.path.join(experiments_path, experiment)\n",
    "    if not os.path.isdir(experiment_path):\n",
    "        continue\n",
    "\n",
    "    accuracies = []\n",
    "    majority_vote_accuracies_list = []\n",
    "\n",
    "    results_path = os.path.join(experiment_path)\n",
    "    for json_file in os.listdir(results_path):\n",
    "        if json_file.endswith(\".json\"):\n",
    "            json_file_path = os.path.join(results_path, json_file)\n",
    "            with open(json_file_path, 'r') as file:\n",
    "                data = json.load(file)\n",
    "                \n",
    "                if \"accuracy\" in data:\n",
    "                    accuracies.append(data[\"accuracy\"])\n",
    "                if \"majority_vote_accuracy\" in data:\n",
    "                    majority_vote_accuracies_list.append(data[\"majority_vote_accuracy\"])\n",
    "\n",
    "    \n",
    "    if accuracies:\n",
    "        mean_accuracy = np.mean(accuracies)\n",
    "        std_accuracy = np.std(accuracies)\n",
    "        n = len(accuracies)\n",
    "        ci_accuracy = 1.96 * (std_accuracy / np.sqrt(n))\n",
    "        average_accuracies.append(mean_accuracy)\n",
    "        error_bars_accuracy.append([ci_accuracy])\n",
    "    else:\n",
    "        average_accuracies.append(0)\n",
    "        error_bars_accuracy.append([0])\n",
    "\n",
    "    \n",
    "    if majority_vote_accuracies_list:\n",
    "        mean_mv_accuracy = np.mean(majority_vote_accuracies_list)\n",
    "        std_mv_accuracy = np.std(majority_vote_accuracies_list)\n",
    "        n_mv = len(majority_vote_accuracies_list)\n",
    "        ci_mv_accuracy = 1.96 * (std_mv_accuracy / np.sqrt(n_mv))\n",
    "        majority_vote_accuracies.append(mean_mv_accuracy)\n",
    "        error_bars_majority_vote.append([ci_mv_accuracy])\n",
    "    else:\n",
    "        majority_vote_accuracies.append(0)\n",
    "        error_bars_majority_vote.append([0])\n",
    "\n",
    "    experiment_names.append(experiment)"
   ]
  },
  {
   "cell_type": "code",
   "execution_count": 25,
   "metadata": {},
   "outputs": [],
   "source": [
    "baseline_accuracies = []\n",
    "baseline_majority_vote_accuracies = []\n",
    "for json_file in os.listdir(baseline_path):\n",
    "    if json_file.endswith(\".json\"):\n",
    "        json_file_path = os.path.join(baseline_path, json_file)\n",
    "        with open(json_file_path, 'r') as file:\n",
    "            data = json.load(file)\n",
    "            \n",
    "            if \"accuracy\" in data:\n",
    "                baseline_accuracies.append(data[\"accuracy\"])\n",
    "            if \"majority_vote_accuracy\" in data:\n",
    "                baseline_majority_vote_accuracies.append(data[\"majority_vote_accuracy\"])"
   ]
  },
  {
   "cell_type": "code",
   "execution_count": 26,
   "metadata": {},
   "outputs": [],
   "source": [
    "\n",
    "baseline_average_accuracy = np.mean(baseline_accuracies)\n",
    "baseline_average_majority_vote_accuracy = np.mean(baseline_majority_vote_accuracies)\n",
    "\n",
    "error_bars_accuracy = np.array(error_bars_accuracy).T  \n",
    "error_bars_majority_vote = np.array(error_bars_majority_vote).T"
   ]
  },
  {
   "cell_type": "code",
   "execution_count": null,
   "metadata": {},
   "outputs": [],
   "source": [
    "# Fixing the indexes/order\n",
    "desired_order = [\"Names\", \"Numbers\", \"Names and Numbers\", \"NoOps\", \"Irrelevant Information\"]\n",
    "ordered_indices = [experiment_names.index(name) for name in desired_order]\n",
    "\n",
    "error_bars_accuracy = error_bars_accuracy[0]\n",
    "error_bars_majority_vote = error_bars_majority_vote[0]\n",
    "\n",
    "experiment_names = [experiment_names[i] for i in ordered_indices]\n",
    "average_accuracies = [average_accuracies[i] for i in ordered_indices]\n",
    "majority_vote_accuracies = [majority_vote_accuracies[i] for i in ordered_indices]\n",
    "error_bars_accuracy = [error_bars_accuracy[i] for i in ordered_indices]\n",
    "error_bars_majority_vote = [error_bars_majority_vote[i] for i in ordered_indices]"
   ]
  },
  {
   "cell_type": "code",
   "execution_count": 30,
   "metadata": {},
   "outputs": [
    {
     "data": {
      "image/png": "[encoded data removed]",
      "text/plain": [
       "<Figure size 1000x600 with 1 Axes>"
      ]
     },
     "metadata": {},
     "output_type": "display_data"
    }
   ],
   "source": [
    "\n",
    "plt.figure(figsize=(10, 6))  \n",
    "plt.bar(x_positions - width/2, average_accuracies, width, yerr=error_bars_accuracy, \n",
    "        color='lavender', alpha=0.8, capsize=5, label='Discriminator')\n",
    "plt.bar(x_positions + width/2, majority_vote_accuracies, width, yerr=error_bars_majority_vote, \n",
    "        color='rebeccapurple', alpha=0.8, capsize=5, label='Generator')\n",
    "plt.axhline(y=baseline_average_accuracy, color='gold', linestyle='--', linewidth=1.5, label='Baseline Discriminator')    \n",
    "plt.axhline(y=baseline_average_majority_vote_accuracy, color='blue', linestyle='--', linewidth=1.5, label='Baseline Generator')\n",
    "plt.xticks(x_positions, experiment_names, fontsize=10)\n",
    "plt.xlabel(\"Experiments\")\n",
    "plt.ylabel(\"Accuracy\")\n",
    "plt.title(\"Accuracy and Majority Vote Accuracy Across Experiments with Baseline Reference\")\n",
    "plt.ylim(0, 1)  \n",
    "plt.legend()\n",
    "plt.tight_layout()\n",
    "plt.show()"
   ]
  }
 ],
 "metadata": {
  "kernelspec": {
   "display_name": "02456-dl",
   "language": "python",
   "name": "python3"
  },
  "language_info": {
   "codemirror_mode": {
    "name": "ipython",
    "version": 3
   },
   "file_extension": ".py",
   "mimetype": "text/x-python",
   "name": "python",
   "nbconvert_exporter": "python",
   "pygments_lexer": "ipython3",
   "version": "3.12.4"
  }
 },
 "nbformat": 4,
 "nbformat_minor": 2
}
